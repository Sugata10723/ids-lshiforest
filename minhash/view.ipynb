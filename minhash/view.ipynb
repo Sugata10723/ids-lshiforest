import pandas as pd


df = pd.read_csv('data/unsw_nb15/UNSW_NB15_training-set.csv')

